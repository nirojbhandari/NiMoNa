{
 "cells": [
  {
   "cell_type": "code",
   "execution_count": 4,
   "metadata": {},
   "outputs": [
    {
     "data": {
      "image/png": "[encoded data removed]",
      "text/plain": [
       "<Figure size 432x288 with 1 Axes>"
      ]
     },
     "metadata": {
      "needs_background": "light"
     },
     "output_type": "display_data"
    }
   ],
   "source": [
    "import numpy as np\n",
    "import matplotlib.pyplot as plt\n",
    "x0=-1\n",
    "d1=1\n",
    "d2=4\n",
    "u=0.31\n",
    "alpha=1.2\n",
    "b1=0\n",
    "b2=3\n",
    "h1=10**(-3)\n",
    "h2=10**(-1)\n",
    "t=0\n",
    "T=7\n",
    "def Euler(t,x,h,d,b,Tend):\n",
    "    while t<=Tend:\n",
    "        x=x+h*(-d*x+u*np.tanh(alpha*x)+b)\n",
    "        t=t+h\n",
    "        plt.plot(t,x,'bo')\n",
    "        plt.xticks(fontsize=14)\n",
    "        plt.yticks(fontsize=14)\n",
    "        plt.xlabel(\"t\",fontsize=16)\n",
    "        plt.ylabel('x(t)',fontsize=16)\n",
    "\n",
    "\n",
    "fig1 = plt.figure(1)\n",
    "Euler(t,x0,h1,d1,b1,T)\n",
    "Euler(t,x0,h1,d1,b2,T)\n",
    "Euler(t,x0,h2,d1,b2,T)\n",
    "Euler(t,x0,h1,d2,b1,T)\n",
    "plt.show()\n",
    "\n"
   ]
  }
 ],
 "metadata": {
  "kernelspec": {
   "display_name": "Python 3",
   "language": "python",
   "name": "python3"
  },
  "language_info": {
   "codemirror_mode": {
    "name": "ipython",
    "version": 3
   },
   "file_extension": ".py",
   "mimetype": "text/x-python",
   "name": "python",
   "nbconvert_exporter": "python",
   "pygments_lexer": "ipython3",
   "version": "3.8.5"
  }
 },
 "nbformat": 4,
 "nbformat_minor": 4
}
